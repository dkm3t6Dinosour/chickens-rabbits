{
 "cells": [
  {
   "cell_type": "code",
   "execution_count": 10,
   "id": "34f3e405",
   "metadata": {},
   "outputs": [
    {
     "ename": "SyntaxError",
     "evalue": "invalid character '）' (U+FF09) (3453197015.py, line 5)",
     "output_type": "error",
     "traceback": [
      "\u001b[0;36m  Cell \u001b[0;32mIn[10], line 5\u001b[0;36m\u001b[0m\n\u001b[0;31m    print(f'籠子裡有{R}隻免子，有{R}隻雞'）\u001b[0m\n\u001b[0m                              ^\u001b[0m\n\u001b[0;31mSyntaxError\u001b[0m\u001b[0;31m:\u001b[0m invalid character '）' (U+FF09)\n"
     ]
    }
   ],
   "source": [
    "H=int(input('雞免同籠共有幾隻'))\n",
    "F=int(input(\"一共幾隻腳\"))\n",
    "C=int((4* H-F)/2)\n",
    "R= H- C\n",
    "print(f'籠子裡有{R}隻免子，有{C}隻雞'）"
   ]
  },
  {
   "cell_type": "code",
   "execution_count": 13,
   "id": "3dd1a875",
   "metadata": {},
   "outputs": [
    {
     "name": "stdout",
     "output_type": "stream",
     "text": [
      "雞免同籠共有幾隻35\n",
      "一共幾隻腳94\n",
      "雞有23隻，免子有 12 隻\n"
     ]
    }
   ],
   "source": [
    "H= int(input(\"雞免同籠共有幾隻\"))\n",
    "F= int(input(\"一共幾隻腳\"))\n",
    "\n",
    "C = int((4 * H - F)/2)\n",
    "R = H - C\n",
    "\n",
    "print(f\"雞有{Ｃ}隻，免子有 {Ｒ} 隻\")"
   ]
  },
  {
   "cell_type": "code",
   "execution_count": 26,
   "id": "1f17bb67",
   "metadata": {},
   "outputs": [
    {
     "ename": "SyntaxError",
     "evalue": "invalid character '）' (U+FF09) (3976109705.py, line 9)",
     "output_type": "error",
     "traceback": [
      "\u001b[0;36m  Cell \u001b[0;32mIn[26], line 9\u001b[0;36m\u001b[0m\n\u001b[0;31m    print('攏總有'+str(int(rabbits))+'隻兔仔'+str(int(chickens))+\"隻雞。\"）\u001b[0m\n\u001b[0m                                                                ^\u001b[0m\n\u001b[0;31mSyntaxError\u001b[0m\u001b[0;31m:\u001b[0m invalid character '）' (U+FF09)\n"
     ]
    }
   ],
   "source": [
    "#老師\n",
    "\n",
    "total_feet = int(input('攏總有幾肢跤?'))\n",
    "total_animals = int(input('攏總有幾隻？'))\n",
    "\n",
    "rabbits = (total_feet-total_animals*2)/(4-2)\n",
    "chickens = total_animals - rabbits\n",
    "\n",
    "print('攏總有'+str(int(rabbits))+'隻兔仔'+str(int(chickens))+\"隻雞。\"）"
   ]
  },
  {
   "cell_type": "code",
   "execution_count": null,
   "id": "2aca05b8",
   "metadata": {},
   "outputs": [],
   "source": []
  },
  {
   "cell_type": "code",
   "execution_count": null,
   "id": "d86d904a",
   "metadata": {},
   "outputs": [],
   "source": []
  },
  {
   "cell_type": "code",
   "execution_count": null,
   "id": "59b2d42c",
   "metadata": {},
   "outputs": [],
   "source": []
  },
  {
   "cell_type": "code",
   "execution_count": null,
   "id": "561e29b9",
   "metadata": {},
   "outputs": [],
   "source": []
  }
 ],
 "metadata": {
  "kernelspec": {
   "display_name": "Python 3 (ipykernel)",
   "language": "python",
   "name": "python3"
  },
  "language_info": {
   "codemirror_mode": {
    "name": "ipython",
    "version": 3
   },
   "file_extension": ".py",
   "mimetype": "text/x-python",
   "name": "python",
   "nbconvert_exporter": "python",
   "pygments_lexer": "ipython3",
   "version": "3.11.4"
  }
 },
 "nbformat": 4,
 "nbformat_minor": 5
}
